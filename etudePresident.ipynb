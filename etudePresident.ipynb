{
 "cells": [
  {
   "cell_type": "markdown",
   "id": "8bcbb3ab",
   "metadata": {},
   "source": [
    "# Rapport TAL - Partie Présidents\n",
    "\n",
    "Membres du binôme :\n",
    "- KRISNI Almehdi (3800519)\n",
    "- ARICHANDRA Santhos (3802651)\n",
    "\n",
    "### Introduction\n",
    "Dans cette partie, nous allons nous intéresser à la prédiction de l'interlocuteur lors d'un débat présidentiel entre Chirac et Mitterrand. Entre d'autres termes, qui a dit quoi ?\n",
    "\n",
    "Nous disposons donc d'une base de données d'apprentissage de 57000 lignes représentant un ensemble de phrases, chacune de ces dernières étiquetées par un C (Chirac) ou un M (Mitterrand), désignant la personne l'ayant prononcé. On peut alors labéliser notre ensemble d'apprentissage en 2 classes distinctes. \n",
    "\n",
    "Notre objectif est de mettre en place des algorithmes allant nous permettre de labelliser de nouveaux débats entre Chirac et Mitterrand.\n",
    "\n",
    "### Mise en place des import et des librairies utilisées"
   ]
  },
  {
   "cell_type": "code",
   "execution_count": 263,
   "id": "15557cf7",
   "metadata": {},
   "outputs": [
    {
     "name": "stdout",
     "output_type": "stream",
     "text": [
      "The autoreload extension is already loaded. To reload it, use:\n",
      "  %reload_ext autoreload\n"
     ]
    }
   ],
   "source": [
    "import numpy as np\n",
    "import matplotlib.pyplot as plt\n",
    "\n",
    "# Pour retirer les messages d'alerte\n",
    "import warnings\n",
    "warnings.filterwarnings('ignore')\n",
    "\n",
    "import codecs\n",
    "import re\n",
    "import os.path\n",
    "\n",
    "import copy\n",
    "\n",
    "# Librairies pour le traitement de texte\n",
    "import re\n",
    "import unicodedata\n",
    "import string\n",
    "\n",
    "# Librairie pour l'utilisation de compteurs\n",
    "from collections import Counter\n",
    "\n",
    "# Librairies pour le traitement de texte et la mise en place de vecteurs\n",
    "from sklearn.feature_extraction import text \n",
    "from sklearn.feature_extraction.text import CountVectorizer, TfidfVectorizer\n",
    "\n",
    "# Librairies pour la phase de Machine Learning\n",
    "import numpy as np\n",
    "import sklearn.naive_bayes as nb\n",
    "from sklearn import svm\n",
    "from sklearn import linear_model\n",
    "from sklearn.model_selection import GridSearchCV\n",
    "from sklearn.model_selection import ParameterGrid\n",
    "\n",
    "# Libraire pour les statistiques (moyenne, ...)\n",
    "import statistics\n",
    "\n",
    "# Importation des librairies standards\n",
    "import pandas as pd\n",
    "import matplotlib.pyplot as plt\n",
    "%matplotlib inline  \n",
    "\n",
    "# Importation de votre librairie iads\n",
    "import sys\n",
    "sys.path.append('../')\n",
    "\n",
    "# Iportation de utils\n",
    "from iads import utils as ut\n",
    "\n",
    "# commande TRES utile pour recharger automatiquement le code que vous modifiez dans les modules\n",
    "%load_ext autoreload\n",
    "%autoreload 2"
   ]
  },
  {
   "cell_type": "markdown",
   "id": "04188d76",
   "metadata": {},
   "source": [
    "### Première analyse des données\n",
    "\n",
    "On extrait dans un premier les informations à la base de données d'apprentissage. On utilise la fonction d'extraction \"load_pres\" située dans le fichier utils.py.\n",
    "\n",
    "On considère 2 classes, la classe -1 représentant Mitterrand et la classe +1 représentant Chirac."
   ]
  },
  {
   "cell_type": "code",
   "execution_count": 55,
   "id": "79aa273d",
   "metadata": {},
   "outputs": [],
   "source": [
    "appdata = ut.load_pres(\"AFDpresidentutf8/corpus.tache1.learn.utf8\")\n",
    "appX = appdata[0]\n",
    "appY = appdata[1]"
   ]
  },
  {
   "cell_type": "markdown",
   "id": "8c550fb2",
   "metadata": {},
   "source": [
    "On s'intéresse à la répartition des labels dans les données. Une personne parle-t-elle beaucoup plus que l'autre ?"
   ]
  },
  {
   "cell_type": "code",
   "execution_count": 56,
   "id": "cdc5dce3",
   "metadata": {},
   "outputs": [
    {
     "name": "stdout",
     "output_type": "stream",
     "text": [
      "Le nombre de lignes prononcées par Chirac :\t 49890\n",
      "Le nombre de lignes prononcées par Mitterrand :\t 7523 \n",
      "\n",
      "Proportion de Chirac dans la base d'apprentissage :\t 86.89669587027329 %\n",
      "Proportion de Mitterrand dans la base d'apprentissage :\t 13.103304129726718 %\n"
     ]
    }
   ],
   "source": [
    "print(\"Le nombre de lignes prononcées par Chirac :\\t\", str(appY.count(1)))\n",
    "print(\"Le nombre de lignes prononcées par Mitterrand :\\t\", str(appY.count(-1)), \"\\n\")\n",
    "print(\"Proportion de Chirac dans la base d'apprentissage :\\t\", str((appY.count(1) / len(appY)) * 100), \"%\")\n",
    "print(\"Proportion de Mitterrand dans la base d'apprentissage :\\t\", str((appY.count(-1) / len(appY)) * 100), \"%\")"
   ]
  },
  {
   "cell_type": "markdown",
   "id": "685bd03a",
   "metadata": {},
   "source": [
    "On remarque donc qu'il y a presque 87% des lignes dans la base de données d'apprentissage ayant été prononcées par Mitterrand. Il se peut que cette différence puisse jouer un rôle important lors de l'apprentissage.\n",
    "\n",
    "### Nettoyage des données et analyse avancée\n",
    "\n",
    "On effectue alors un premier nettoyage des données en supprimant les chiffres, la ponctuation, les accents, les majuscules et les stopwords de la langue française.\n",
    "\n",
    "La liste des stopwords utilisés est la fusion entre la liste de la libraire nltk.stopwords et spacy.lang.fr.stop_words.\n",
    "\n",
    "Le stemmer Snowball est tiré de la librairie nltk.stem.snowball."
   ]
  },
  {
   "cell_type": "code",
   "execution_count": 60,
   "id": "40a095d2",
   "metadata": {},
   "outputs": [],
   "source": [
    "appX = appdata[0]\n",
    "appY = appdata[1]"
   ]
  },
  {
   "cell_type": "code",
   "execution_count": 253,
   "id": "67651017",
   "metadata": {},
   "outputs": [
    {
     "name": "stdout",
     "output_type": "stream",
     "text": [
      "\u001b[1m Sans aucune modification, on obtient comme premières lignes : \u001b[0m\n",
      "\t  Quand je dis chers amis, il ne s'agit pas là d'une formule diplomatique, mais de l'expression de ce que je ressens.\n",
      "\n",
      "\t  D'abord merci de cet exceptionnel accueil que les Congolais, les Brazavillois, nous ont réservé cet après-midi.\n",
      "\n",
      "\t  C'est toujours très émouvant de venir en Afrique car c'est probablement l'une des rares terres du monde où l'on ait conservé cette convivialité, cette amitié, ce respect de l'autre qui s'expriment avec chaleur, avec spontanéité et qui réchauffent le coeur de ceux qui arrivent et de ceux qui reçoivent.\n",
      "\n",
      "\t  Aucun citoyen français ne peut être indifférent à un séjour à Brazzaville.\n",
      "\n",
      "\t  Le Congo, que naguère le <nom> qualifia de \"refuge pour la liberté\", de \"base de départ pour la libération\", de \"môle pour la Résistance\", comment ne pas être heureux de s'y retrouver ?\n",
      "\n",
      "\n",
      "\u001b[1m Sans suppression des stopwords et sans stemming, on obtient comme premières lignes : \u001b[0m\n",
      "\t  quand je dis chers amis  il ne s agit pas la d une formule diplomatique  mais de l expression de ce que je ressens  \n",
      "\t  d abord merci de cet exceptionnel accueil que les congolais  les brazavillois  nous ont reserve cet apres midi  \n",
      "\t  c est toujours tres emouvant de venir en afrique car c est probablement l une des rares terres du monde ou l on ait conserve cette convivialite  cette amitie  ce respect de l autre qui s expriment avec chaleur  avec spontaneite et qui rechauffent le coeur de ceux qui arrivent et de ceux qui recoivent  \n",
      "\t  aucun citoyen francais ne peut etre indifferent a un sejour a brazzaville  \n",
      "\t  le congo  que naguere le  nom  qualifia de  refuge pour la liberte   de  base de depart pour la liberation   de  mole pour la resistance   comment ne pas etre heureux de s y retrouver   \n",
      "\n",
      "\u001b[1m Avec suppression des stopwords et sans stemming, on obtient comme premières lignes : \u001b[0m\n",
      "\t dis chers amis agit formule diplomatique expression ressens\n",
      "\t exceptionnel accueil congolais brazavillois reserve midi\n",
      "\t emouvant venir afrique probablement rares terres monde conserve convivialite amitie respect expriment chaleur spontaneite rechauffent coeur arrivent recoivent\n",
      "\t aucun citoyen francais indifferent sejour brazzaville\n",
      "\t congo naguere nom qualifia refuge liberte base depart liberation mole resistance heureux retrouver\n",
      "\n",
      "\u001b[1m Sans suppresion des stopwords et avec stemming, on obtient comme premières lignes : \u001b[0m\n",
      "\t quand je dis cher amis il ne s agit pas la d une formul diplomat mais de l express de ce que je ressen\n",
      "\t d abord merc de cet exceptionnel accueil que le congol le brazavillois nous ont reserv cet apre mid\n",
      "\t c est toujour tre emouv de ven en afriqu car c est probabl l une de rar terr du mond ou l on ait conserv cet convivialit cet amit ce respect de l autr qui s expriment avec chaleur avec spontaneit et qui rechauffent le coeur de ceux qui arrivent et de ceux qui recoivent\n",
      "\t aucun citoyen franc ne peut etre indifferent a un sejour a brazzavill\n",
      "\t le congo que naguer le nom qualifi de refug pour la libert de bas de depart pour la liber de mol pour la resist comment ne pas etre heureux de s y retrouv\n",
      "\n",
      "\u001b[1m Avec suppression des stopwords et un stemming, on obtient comme premières lignes : \u001b[0m\n",
      "\t dis cher amis agit formul diplomat express ressen\n",
      "\t exceptionnel accueil congol brazavillois reserv mid\n",
      "\t emouv ven afriqu probabl rar terr mond conserv convivialit amit respect expriment chaleur spontaneit rechauffent coeur arrivent recoivent\n",
      "\t aucun citoyen franc indifferent sejour brazzavill\n",
      "\t congo naguer nom qualifi refug libert bas depart liber mol resist heureux retrouv\n"
     ]
    }
   ],
   "source": [
    "print('\\033[1m', \"Sans aucune modification, on obtient comme premières lignes :\",'\\033[0m')\n",
    "for s in appX[:5] :\n",
    "    print(\"\\t\", s)\n",
    "print()\n",
    "\n",
    "test1AppX = ut.transform(appX, punc=True, accentMaj=True, nb=True, stopW=False, stem=False)\n",
    "print('\\033[1m', \"Sans suppression des stopwords et sans stemming, on obtient comme premières lignes :\",'\\033[0m')\n",
    "for s in test1AppX[:5] :\n",
    "    print(\"\\t\", s)\n",
    "print()\n",
    "\n",
    "test2AppX = ut.transform(appX, punc=True, accentMaj=True, nb=True, stopW=True, stem=False)\n",
    "print('\\033[1m', \"Avec suppression des stopwords et sans stemming, on obtient comme premières lignes :\", '\\033[0m')\n",
    "for s in test2AppX[:5] :\n",
    "    print(\"\\t\", s)\n",
    "print()\n",
    "\n",
    "test3AppX = ut.transform(appX, punc=True, accentMaj=True, nb=True, stopW=False, stem=True)\n",
    "print('\\033[1m', \"Sans suppresion des stopwords et avec stemming, on obtient comme premières lignes :\", '\\033[0m')\n",
    "for s in test3AppX[:5] :\n",
    "    print(\"\\t\", s)\n",
    "print()\n",
    "\n",
    "test4AppX = ut.transform(appX, punc=True, accentMaj=True, nb=True, stopW=True, stem=True)\n",
    "print('\\033[1m', \"Avec suppression des stopwords et un stemming, on obtient comme premières lignes :\",'\\033[0m')\n",
    "for s in test4AppX[:5] :\n",
    "    print(\"\\t\", s)"
   ]
  },
  {
   "cell_type": "markdown",
   "id": "60e202ed",
   "metadata": {},
   "source": [
    "On crée un Counter allant mettre en avant les mots les plus souvent utilisés par chacun des Présidents, après nettoyage des données en fonction des paramètres selectionnés."
   ]
  },
  {
   "cell_type": "code",
   "execution_count": 6,
   "id": "fd8532fd",
   "metadata": {},
   "outputs": [
    {
     "name": "stdout",
     "output_type": "stream",
     "text": [
      "Les 10 mots les plus utilisés par Mitterrand sont :\n",
      " ['de', 'la', 'et', 'à', 'le', 'les', 'que', 'des', 'qui', 'en'] \n",
      "\n",
      "Les 10 mots les plus utilisés par Chirac sont :\n",
      " ['de', 'la', 'et', 'à', 'les', 'le', 'des', 'que', 'en', 'qui']\n"
     ]
    }
   ],
   "source": [
    "# Création du dictionnaire et counter de mots de Mitterrand\n",
    "motsM = [appX[i] for i in range(len(appY)) if appY[i] == -1]\n",
    "motsM = (' '.join(motsM)).split()\n",
    "counterM = Counter(motsM)\n",
    "\n",
    "print(\"Les 10 mots les plus utilisés par Mitterrand sont :\\n\", [i[0] for i in counterM.most_common(10)], \"\\n\")\n",
    "\n",
    "# Creation du dictionnaire et counter de mots de Chirac\n",
    "motsC = [appX[i] for i in range(len(appY)) if appY[i] == 1]\n",
    "motsC = (' '.join(motsC)).split()\n",
    "counterC = Counter(motsC)\n",
    "\n",
    "print(\"Les 10 mots les plus utilisés par Chirac sont :\\n\", [i[0] for i in counterC.most_common(10)])"
   ]
  },
  {
   "cell_type": "markdown",
   "id": "e178fcb8",
   "metadata": {},
   "source": [
    "On remarque que les listes sont composées uniquement de stopwords. On décide donc de les supprimer afin d'avoir une meilleure idée des mots les plus utilisés par chaque Président."
   ]
  },
  {
   "cell_type": "code",
   "execution_count": 254,
   "id": "28059bae",
   "metadata": {},
   "outputs": [
    {
     "name": "stdout",
     "output_type": "stream",
     "text": [
      "Les 10 mots les plus utilisés par Mitterrand sont :\n",
      " ['-', \"c'est\", 'Je', 'bien', 'pays', 'Il', \"qu'il\", ':', 'faut', 'France'] \n",
      "\n",
      "Les 10 mots les plus utilisés par Chirac sont :\n",
      " ['Je', \"C'est\", 'Il', 'France', \"c'est\", 'La', '<nom>', 'pays', ':', \"d'une\"]\n"
     ]
    }
   ],
   "source": [
    "# On supprime les stopwords\n",
    "appX_ssw = ut.transform(appX, stopW=True)\n",
    "\n",
    "# Création du dictionnaire et counter de mots de Mitterrand\n",
    "motsM = [appX_ssw[i] for i in range(len(appY)) if appY[i] == -1]\n",
    "motsM = (' '.join(motsM)).split()\n",
    "counterM = Counter(motsM)\n",
    "\n",
    "print(\"Les 10 mots les plus utilisés par Mitterrand sont :\\n\", [i[0] for i in counterM.most_common(10)], \"\\n\")\n",
    "\n",
    "# Creation du dictionnaire et counter de mots de Chirac\n",
    "motsC = [appX_ssw[i] for i in range(len(appY)) if appY[i] == 1]\n",
    "motsC = (' '.join(motsC)).split()\n",
    "counterC = Counter(motsC)\n",
    "\n",
    "print(\"Les 10 mots les plus utilisés par Chirac sont :\\n\", [i[0] for i in counterC.most_common(10)])"
   ]
  },
  {
   "cell_type": "markdown",
   "id": "927d540f",
   "metadata": {},
   "source": [
    "On remarque une nouvelle fois que ces listes contiennent plusieurs mots avec des majuscules ou des signes de ponctuation. On décide donc de supprimer toutes les majuscules, tous les accents, tous les nombres et toute la ponctuation."
   ]
  },
  {
   "cell_type": "code",
   "execution_count": 267,
   "id": "fc76a4dd",
   "metadata": {},
   "outputs": [
    {
     "name": "stdout",
     "output_type": "stream",
     "text": [
      "Les 10 mots les plus utilisés par Mitterrand sont :\n",
      " ['bien', 'pays', 'france', 'faut', 'europe', 'ete', 'nom', 'date', 'faire', 'temps'] \n",
      "\n",
      "Les 10 mots les plus utilisés par Chirac sont :\n",
      " ['france', 'pays', 'nom', 'aujourd', 'monde', 'francais', 'bien', 'europe', 'faire', 'etat']\n"
     ]
    }
   ],
   "source": [
    "# On effectue la suppression totale\n",
    "appX_ssw = ut.transform(appX, punc=True, accentMaj=True, nb=True, stopW=True)\n",
    "\n",
    "# Création du dictionnaire et counter de mots de Mitterrand\n",
    "motsM = [appX_ssw[i] for i in range(len(appY)) if appY[i] == -1]\n",
    "motsM = (' '.join(motsM)).split()\n",
    "counterM = Counter(motsM)\n",
    "\n",
    "print(\"Les 10 mots les plus utilisés par Mitterrand sont :\\n\", [i[0] for i in counterM.most_common(10)], \"\\n\")\n",
    "\n",
    "# Creation du dictionnaire et counter de mots de Chirac\n",
    "motsC = [appX_ssw[i] for i in range(len(appY)) if appY[i] == 1]\n",
    "motsC = (' '.join(motsC)).split()\n",
    "counterC = Counter(motsC)\n",
    "\n",
    "print(\"Les 10 mots les plus utilisés par Chirac sont :\\n\", [i[0] for i in counterC.most_common(10)])"
   ]
  },
  {
   "cell_type": "code",
   "execution_count": 349,
   "id": "99dbd0fc",
   "metadata": {},
   "outputs": [],
   "source": [
    "# On crée de nouvelles variables pour simplifier le travail\n",
    "all_M = [appX[i] for i in range(len(appY)) if appY[i] == -1]\n",
    "all_C = [appX[i] for i in range(len(appY)) if appY[i] == 1]\n",
    "\n",
    "txt_M = ut.transform(all_M, punc=True)\n",
    "txt_M = ' '.join(txt_M)\n",
    "\n",
    "txt_C = ut.transform(all_C, punc=True)\n",
    "txt_C = ' '.join(txt_C)"
   ]
  },
  {
   "cell_type": "code",
   "execution_count": 350,
   "id": "cd7b0be7",
   "metadata": {},
   "outputs": [
    {
     "name": "stdout",
     "output_type": "stream",
     "text": [
      "Nombre de mots uniques M => 13376\n"
     ]
    }
   ],
   "source": [
    "vectorizerM = CountVectorizer(stop_words=cachedStopWords)\n",
    "transform_VM = vectorizerM.fit_transform(all_M)\n",
    "mots_uniques_M = vectorizerM.get_feature_names()\n",
    "print('Nombre de mots uniques M =>',len(vectorizerM.get_feature_names()))"
   ]
  },
  {
   "cell_type": "code",
   "execution_count": 351,
   "id": "aacc384c",
   "metadata": {
    "scrolled": true
   },
   "outputs": [
    {
     "data": {
      "text/plain": [
       "[('bien', 827),\n",
       " ('pays', 822),\n",
       " ('france', 743),\n",
       " ('faut', 587),\n",
       " ('europe', 559),\n",
       " ('nom', 444),\n",
       " ('date', 384),\n",
       " ('faire', 379),\n",
       " ('temps', 313),\n",
       " ('monde', 294),\n",
       " ('aujourd', 284),\n",
       " ('beaucoup', 275),\n",
       " ('français', 249),\n",
       " ('vie', 235),\n",
       " ('histoire', 232),\n",
       " ('ici', 230),\n",
       " ('politique', 229),\n",
       " ('etat', 222),\n",
       " ('non', 208),\n",
       " ('communauté', 183),\n",
       " ('années', 181),\n",
       " ('fois', 180),\n",
       " ('ans', 174),\n",
       " ('ensemble', 171),\n",
       " ('président', 170),\n",
       " ('part', 169),\n",
       " ('crois', 167),\n",
       " ('droit', 167),\n",
       " ('développement', 167),\n",
       " ('point', 163),\n",
       " ('hommes', 161),\n",
       " ('cas', 158),\n",
       " ('grande', 158),\n",
       " ('grand', 153),\n",
       " ('moyens', 145),\n",
       " ('monsieur', 142),\n",
       " ('grands', 138),\n",
       " ('région', 138),\n",
       " ('etats', 137),\n",
       " ('simplement', 137),\n",
       " ('société', 136),\n",
       " ('ville', 134),\n",
       " ('république', 133),\n",
       " ('moment', 132),\n",
       " ('plan', 129),\n",
       " ('esprit', 128),\n",
       " ('gouvernement', 127),\n",
       " ('économique', 127),\n",
       " ('guerre', 126),\n",
       " ('peuple', 125)]"
      ]
     },
     "execution_count": 351,
     "metadata": {},
     "output_type": "execute_result"
    }
   ],
   "source": [
    "nb_occurs_M = np.sum(transform_VM.toarray(), axis=0)\n",
    "counterM = Counter( { mots_uniques_M[i] : nb_occurs_M[i] for i in range(len(mots_uniques_M)) } )\n",
    "counterM.most_common(50)"
   ]
  },
  {
   "cell_type": "code",
   "execution_count": 352,
   "id": "5888308d",
   "metadata": {},
   "outputs": [
    {
     "name": "stdout",
     "output_type": "stream",
     "text": [
      "Nombre de mots uniques C => 24954\n"
     ]
    }
   ],
   "source": [
    "vectorizerC = CountVectorizer(stop_words=cachedStopWords)\n",
    "transform_VC = vectorizerC.fit_transform(all_C)\n",
    "mots_uniques_C = vectorizerC.get_feature_names()\n",
    "print('Nombre de mots uniques C =>',len(vectorizerC.get_feature_names()))"
   ]
  },
  {
   "cell_type": "code",
   "execution_count": 353,
   "id": "e3307b19",
   "metadata": {
    "scrolled": true
   },
   "outputs": [
    {
     "data": {
      "text/plain": [
       "[('france', 4458),\n",
       " ('pays', 3642),\n",
       " ('nom', 3086),\n",
       " ('aujourd', 2297),\n",
       " ('monde', 2198),\n",
       " ('français', 2122),\n",
       " ('bien', 2118),\n",
       " ('europe', 2050),\n",
       " ('faire', 2047),\n",
       " ('date', 1567),\n",
       " ('faut', 1530),\n",
       " ('ensemble', 1501),\n",
       " ('développement', 1460),\n",
       " ('monsieur', 1389),\n",
       " ('président', 1367),\n",
       " ('politique', 1308),\n",
       " ('vie', 1238),\n",
       " ('avenir', 1143),\n",
       " ('union', 1143),\n",
       " ('paix', 1134),\n",
       " ('ici', 1118),\n",
       " ('européenne', 1090),\n",
       " ('etat', 1041),\n",
       " ('temps', 1036),\n",
       " ('sécurité', 1007),\n",
       " ('ans', 998),\n",
       " ('économique', 997),\n",
       " ('devons', 995),\n",
       " ('place', 982),\n",
       " ('société', 939),\n",
       " ('entreprises', 938),\n",
       " ('beaucoup', 922),\n",
       " ('grande', 918),\n",
       " ('contre', 900),\n",
       " ('action', 882),\n",
       " ('histoire', 881),\n",
       " ('mieux', 881),\n",
       " ('grand', 875),\n",
       " ('jeunes', 809),\n",
       " ('travail', 808),\n",
       " ('respect', 807),\n",
       " ('solidarité', 806),\n",
       " ('coeur', 801),\n",
       " ('dialogue', 784),\n",
       " ('volonté', 784),\n",
       " ('confiance', 778),\n",
       " ('service', 769),\n",
       " ('fois', 764),\n",
       " ('droit', 762),\n",
       " ('démocratie', 754)]"
      ]
     },
     "execution_count": 353,
     "metadata": {},
     "output_type": "execute_result"
    }
   ],
   "source": [
    "nb_occurs_C = np.sum(transform_VC.toarray(), axis=0)\n",
    "counterC = Counter( { mots_uniques_C[i] : nb_occurs_C[i] for i in range(len(mots_uniques_C)) } )\n",
    "counterC.most_common(50)"
   ]
  },
  {
   "cell_type": "code",
   "execution_count": 354,
   "id": "0649eb4c",
   "metadata": {
    "scrolled": true
   },
   "outputs": [
    {
     "data": {
      "text/plain": [
       "['histoire',\n",
       " 'faire',\n",
       " 'français',\n",
       " 'nom',\n",
       " 'faut',\n",
       " 'france',\n",
       " 'europe',\n",
       " 'etat',\n",
       " 'bien',\n",
       " 'développement',\n",
       " 'grande',\n",
       " 'date',\n",
       " 'pays',\n",
       " 'beaucoup',\n",
       " 'vie',\n",
       " 'aujourd',\n",
       " 'ici',\n",
       " 'ensemble',\n",
       " 'droit',\n",
       " 'monde',\n",
       " 'économique',\n",
       " 'société',\n",
       " 'président',\n",
       " 'fois',\n",
       " 'grand',\n",
       " 'ans',\n",
       " 'temps',\n",
       " 'monsieur',\n",
       " 'politique']"
      ]
     },
     "execution_count": 354,
     "metadata": {},
     "output_type": "execute_result"
    }
   ],
   "source": [
    "# On retire les mots en communs des dictionnaires de chaque Président\n",
    "removeWords = ut.remove_same(50,counterC,counterM)\n",
    "removeWords"
   ]
  },
  {
   "cell_type": "code",
   "execution_count": 355,
   "id": "3f7bc6eb",
   "metadata": {},
   "outputs": [],
   "source": [
    "# Nouvelle liste de stopwords allant être utilisée par la suite\n",
    "newSW = cachedStopWords + removeWords"
   ]
  },
  {
   "cell_type": "markdown",
   "id": "3afe5e8f",
   "metadata": {},
   "source": [
    "On obtient désormais des listes de mots plus compréhensibles mais on remarque tout de même une similarité parmi les mots employés par les deux Présidents.\n",
    "\n",
    "On s'intéresse alors à mettre en place deux dictionnaires exclusifs pour Chirac et Mitterrand. Il s'agit de dictionnaires comportant les mots qu'ils utilisent de manière exclusive."
   ]
  },
  {
   "cell_type": "code",
   "execution_count": 365,
   "id": "bcdb9ab9",
   "metadata": {},
   "outputs": [
    {
     "name": "stdout",
     "output_type": "stream",
     "text": [
      "Le ratio de mots exclusifs utilisés par Mitterrand est de :\t 0.23444976076555024\n",
      "Les 30 mots exclusifs les plus utilisés par Mitterrand sont :\n",
      " ['320', 'convenait', 'nièvre', 'eurêka', 'cee', 'estampes', 'morvan', 'laitiers', 'nevers', 'électrification', '340', 'dédain', 'définitions', 'montluçon', 'vocabulaire', '500000', 'disposés', 'figeac', 'guadeloupéen', 'songez', 'étonné', '10000', '100000', '125000', 'banc', 'basques', 'bougent', 'buffon', 'cantal', 'carrément'] \n",
      "\n",
      "Le ratio de mots exclusifs utilisés par Chirac est de :\t\t 0.5896449467019316\n",
      "Les 30 mots exclusifs les plus utilisés par Chirac sont :\n",
      " ['mondialisation', 'euro', '000', 'attentes', 'g8', 'constituent', 'guyane', 'mercosur', 'sida', 'respectueux', 'internet', 'verre', 'probablement', 'superbe', 'chaleureusement', 'laïcité', 'handicapées', 'gendarmerie', 'gouvernance', 'xxie', 'indien', 'multipolaire', 'méditerranéen', 'socle', 'associatif', 'pompiers', 'champions', 'croissant', 'mayotte', 'présidente']\n"
     ]
    }
   ],
   "source": [
    "# Dictionnaire exclusif de Mitterrand\n",
    "excluM = copy.deepcopy(counterM)\n",
    "for w in counterC.keys() :\n",
    "    if w in excluM.keys() :\n",
    "        del excluM[w]\n",
    "        \n",
    "print(\"Le ratio de mots exclusifs utilisés par Mitterrand est de :\\t\", len(excluM.keys()) / len(counterM.keys()))\n",
    "print(\"Les 30 mots exclusifs les plus utilisés par Mitterrand sont :\\n\", [i[0] for i in excluM.most_common(30)], \"\\n\")\n",
    "\n",
    "# Dictionnaire exclusif de Chirac\n",
    "excluC = copy.deepcopy(counterC)\n",
    "for w in counterM.keys() :\n",
    "    if w in excluC.keys() :\n",
    "        del excluC[w]\n",
    "        \n",
    "print(\"Le ratio de mots exclusifs utilisés par Chirac est de :\\t\\t\", len(excluC.keys()) / len(counterC.keys()))\n",
    "print(\"Les 30 mots exclusifs les plus utilisés par Chirac sont :\\n\", [i[0] for i in excluC.most_common(30)])"
   ]
  },
  {
   "cell_type": "markdown",
   "id": "42cf71f7",
   "metadata": {},
   "source": [
    "### Modèles de Machine Learning selectionnés\n",
    "\n",
    "Nous avons choisi d'utiliser les principaux modèles vus en cours et en TME, c'est-à-dire :\n",
    "- SVM linéaire (LinearSVC)\n",
    "- Naive Bayes (MultinomialNB)\n",
    "- régression logistique (LogisticRegression)\n",
    "\n",
    "Nous utiliserons donc la libraire sklearn puisqu'elle propose tous ces modèles. On importe tous les composants nécessaires de la librairie et d'autres élements utiles."
   ]
  },
  {
   "cell_type": "code",
   "execution_count": 9,
   "id": "0535e720",
   "metadata": {},
   "outputs": [],
   "source": [
    "# Import des modèles utilisés\n",
    "from sklearn.naive_bayes import MultinomialNB\n",
    "from sklearn.svm import LinearSVC\n",
    "from sklearn.linear_model import LogisticRegression\n",
    "\n",
    "# Import de librairies pour le temps et la validation\n",
    "import time\n",
    "from sklearn.model_selection import cross_validate, cross_val_score, KFold\n",
    "\n",
    "# Import de libraires pour la mise en forme du texte\n",
    "from sklearn.feature_extraction.text import CountVectorizer, TfidfVectorizer"
   ]
  },
  {
   "cell_type": "markdown",
   "id": "8a1d403c",
   "metadata": {},
   "source": [
    "Afin d'utiliser les données, il faut les mettre sous forme vectorielle."
   ]
  },
  {
   "cell_type": "code",
   "execution_count": 304,
   "id": "3721d760",
   "metadata": {},
   "outputs": [],
   "source": [
    "# Utilisation de la libraire CountVectorizer\n",
    "vectPres = CountVectorizer()\n",
    "Xpres = vectPres.fit_transform(appX)\n",
    "Ypres = appY"
   ]
  },
  {
   "cell_type": "markdown",
   "id": "6977ef2b",
   "metadata": {},
   "source": [
    "Durant notre première campagne, nous nous sommes intéressés uniquement à l'utilisation des différents modèles en faisant varier quelques paramètres afin d'obtenir les meilleurs résultats comme l'utilisation ou non de la validation croisée, le nombre d'ensemble et le mélange ou non des données.\n",
    "\n",
    "## Première campagne d'expériences\n",
    "\n",
    "### Utilisation du modèle SVM linéaire (LinearSVC)\n",
    "\n",
    "##### Sans validation croisée"
   ]
  },
  {
   "cell_type": "code",
   "execution_count": 305,
   "id": "a15edbb9",
   "metadata": {},
   "outputs": [
    {
     "name": "stdout",
     "output_type": "stream",
     "text": [
      "Score sur les données d'entraînement : 0.9763294027485064\n",
      "Nombre de paramètres vecteur de poids du SVM : 28524 \n",
      "Vecteur de poids du SVM : [[ 1.55348632 -0.22581292  0.39045217 ... -0.33501872  0.\n",
      "  -0.42395892]]\n"
     ]
    }
   ],
   "source": [
    "# Création du classifieur\n",
    "svc = LinearSVC(max_iter=1000)\n",
    "svc.fit(Xpres, Ypres)\n",
    "\n",
    "# Liste pour sauvegarder les scores de précision\n",
    "resultSVM = []\n",
    "\n",
    "# Score sur les données\n",
    "res = svc.score(Xpres, Ypres)\n",
    "\n",
    "# Affichage des informations\n",
    "print(\"Score sur les données d'entraînement :\", res)\n",
    "print('Nombre de paramètres vecteur de poids du SVM :', len(svc.coef_[0]),'\\nVecteur de poids du SVM :', svc.coef_)"
   ]
  },
  {
   "cell_type": "markdown",
   "id": "d99c3e2a",
   "metadata": {},
   "source": [
    "##### Validation croisée, KFold à n = 5, sans mélange"
   ]
  },
  {
   "cell_type": "code",
   "execution_count": 306,
   "id": "8c702f94",
   "metadata": {},
   "outputs": [
    {
     "name": "stdout",
     "output_type": "stream",
     "text": [
      "Score sur les données d'entraînement: [0.8582252  0.86972046 0.87990943 0.89487894 0.89026302] \n",
      "Précision moyenne = 0.87860\n"
     ]
    }
   ],
   "source": [
    "# Prédictions en utilisant la validation croisée sans mélange des données d'apprentissage\n",
    "svc = LinearSVC(max_iter=1000)\n",
    "\n",
    "# KFold permet de créer des sous-ensemble de données tel que à chaque itération, les sous-ensembles ait le même format\n",
    "# Il s'agit de l'équivalent de la fonction de validation croisée que l'on trouve dans le fichier iads/utils.py\n",
    "# https://machinelearningmastery.com/k-fold-cross-validation/#:~:text=Nevertheless%2C%20the%20KFold%20class%20can,with%20very%20large%20data%20samples.\n",
    "kfold = KFold(n_splits=5, shuffle=False)\n",
    "\n",
    "# Un fit est effectué lors de l'appel de la fonction cross_val_score\n",
    "scores_cv = cross_val_score(svc, Xpres, Ypres, cv=kfold)\n",
    "resultSVM.append(1 - statistics.mean(scores_cv))\n",
    "\n",
    "print(\"Score sur les données d'entraînement:\", scores_cv, \"\\nPrécision moyenne = %.5f\" % statistics.mean(scores_cv))"
   ]
  },
  {
   "cell_type": "markdown",
   "id": "a9b6a030",
   "metadata": {},
   "source": [
    "##### Validation croisée, KFold à n = 10, sans mélange"
   ]
  },
  {
   "cell_type": "code",
   "execution_count": 307,
   "id": "2706059d",
   "metadata": {},
   "outputs": [
    {
     "name": "stdout",
     "output_type": "stream",
     "text": [
      "Score sur les données d'entraînement: [0.84343434 0.87513062 0.87025427 0.86901237 0.87998607 0.88434071\n",
      " 0.90123672 0.89705626 0.89095976 0.89200488] \n",
      "Précision moyenne = 0.88034\n"
     ]
    }
   ],
   "source": [
    "# Prédictions en utilisant la validation croisée sans mélange des données d'apprentissage\n",
    "svc = LinearSVC(max_iter=1000)\n",
    "\n",
    "kfold = KFold(n_splits=10, shuffle=False)\n",
    "scores_cv = cross_val_score(svc, Xpres, Ypres, cv=kfold)\n",
    "resultSVM.append(1 - statistics.mean(scores_cv))\n",
    "\n",
    "print(\"Score sur les données d'entraînement:\", scores_cv, \"\\nPrécision moyenne = %.5f\" % statistics.mean(scores_cv))"
   ]
  },
  {
   "cell_type": "markdown",
   "id": "b02c1765",
   "metadata": {},
   "source": [
    "##### Validation croisée, KFold à n = 5, avec mélange"
   ]
  },
  {
   "cell_type": "code",
   "execution_count": 308,
   "id": "4523ab63",
   "metadata": {},
   "outputs": [
    {
     "name": "stdout",
     "output_type": "stream",
     "text": [
      "Score sur les données d'entraînement: [0.88426369 0.89044675 0.88443786 0.88460199 0.88660512] \n",
      "Précision moyenne = 0.88607\n"
     ]
    }
   ],
   "source": [
    "# Prédictions en utilisant la validation croisée sans mélange des données d'apprentissage\n",
    "svc = LinearSVC(max_iter=1000)\n",
    "\n",
    "kfold = KFold(n_splits=5, shuffle=True)\n",
    "scores_cv = cross_val_score(svc, Xpres, Ypres, cv=kfold)\n",
    "resultSVM.append(1 - statistics.mean(scores_cv))\n",
    "\n",
    "print(\"Score sur les données d'entraînement:\", scores_cv, \"\\nPrécision moyenne = %.5f\" % statistics.mean(scores_cv))"
   ]
  },
  {
   "cell_type": "markdown",
   "id": "153fa7d0",
   "metadata": {},
   "source": [
    "##### Validation croisée, KFold à n = 10, avec mélange"
   ]
  },
  {
   "cell_type": "code",
   "execution_count": 309,
   "id": "156e94d2",
   "metadata": {},
   "outputs": [
    {
     "name": "stdout",
     "output_type": "stream",
     "text": [
      "Score sur les données d'entraînement: [0.89393939 0.88523163 0.89010798 0.88312141 0.88225048 0.88956628\n",
      " 0.89322418 0.89670789 0.88886953 0.87841839] \n",
      "Précision moyenne = 0.88814\n"
     ]
    }
   ],
   "source": [
    "# Prédictions en utilisant la validation croisée sans mélange des données d'apprentissage\n",
    "clf = LinearSVC(max_iter=1000)\n",
    "\n",
    "kfold = KFold(n_splits=10, shuffle=True)\n",
    "scores_cv = cross_val_score(clf, Xpres, Ypres, cv=kfold)\n",
    "resultSVM.append(1 - statistics.mean(scores_cv))\n",
    "\n",
    "print(\"Score sur les données d'entraînement:\", scores_cv, \"\\nPrécision moyenne = %.5f\" % statistics.mean(scores_cv))"
   ]
  },
  {
   "cell_type": "markdown",
   "id": "2c35decc",
   "metadata": {},
   "source": [
    "### Utilisation du modèle Naive Bayes (MultinomialNB)\n",
    "\n",
    "#### Sans validation croisée"
   ]
  },
  {
   "cell_type": "code",
   "execution_count": 310,
   "id": "c65343b4",
   "metadata": {},
   "outputs": [
    {
     "name": "stdout",
     "output_type": "stream",
     "text": [
      "Score sur les données d'entraînement : 0.9158030411230906\n",
      "Nombre de paramètres vecteur de poids du SVM : 28524 \n",
      "Vecteur de poids du SVM : [[ -8.48585104  -9.69294397 -10.3553195  ... -13.85182706 -13.85182706\n",
      "  -13.85182706]]\n"
     ]
    }
   ],
   "source": [
    "# Création du classifieur\n",
    "clf = MultinomialNB()\n",
    "clf.fit(Xpres, Ypres)\n",
    "\n",
    "# Liste pour sauvegarder les scores de précision\n",
    "resultNB = []\n",
    "\n",
    "# Score sur les données\n",
    "print(\"Score sur les données d'entraînement :\", clf.score(Xpres, Ypres))\n",
    "print('Nombre de paramètres vecteur de poids du SVM :', len(clf.coef_[0]),'\\nVecteur de poids du SVM :', clf.coef_)"
   ]
  },
  {
   "cell_type": "markdown",
   "id": "84076b34",
   "metadata": {},
   "source": [
    "##### Validation croisée, KFold à n = 5, sans mélange"
   ]
  },
  {
   "cell_type": "code",
   "execution_count": 311,
   "id": "5fa06256",
   "metadata": {},
   "outputs": [
    {
     "name": "stdout",
     "output_type": "stream",
     "text": [
      "Score sur les données d'entraînement: [0.85927023 0.8664983  0.87929983 0.89757882 0.88033444] \n",
      "Précision moyenne = 0.87660\n"
     ]
    }
   ],
   "source": [
    "# Prédictions en utilisant la validation croisée sans mélange des données d'apprentissage\n",
    "clf = MultinomialNB()\n",
    "\n",
    "kfold = KFold(n_splits=5, shuffle=False)\n",
    "scores_cv = cross_val_score(clf, Xpres, Ypres, cv=kfold)\n",
    "resultNB.append(1 - statistics.mean(scores_cv))\n",
    "\n",
    "print(\"Score sur les données d'entraînement:\", scores_cv, \"\\nPrécision moyenne = %.5f\" % statistics.mean(scores_cv))"
   ]
  },
  {
   "cell_type": "markdown",
   "id": "2c31e241",
   "metadata": {},
   "source": [
    "##### Validation croisée, KFold à n = 10, sans mélange"
   ]
  },
  {
   "cell_type": "code",
   "execution_count": 312,
   "id": "1a5a74c1",
   "metadata": {},
   "outputs": [
    {
     "name": "stdout",
     "output_type": "stream",
     "text": [
      "Score sur les données d'entraînement: [0.84691745 0.87600139 0.87617555 0.86204494 0.88416652 0.87632817\n",
      " 0.90175928 0.89148232 0.87772165 0.88346978] \n",
      "Précision moyenne = 0.87761\n"
     ]
    }
   ],
   "source": [
    "# Prédictions en utilisant la validation croisée sans mélange des données d'apprentissage\n",
    "clf = MultinomialNB()\n",
    "\n",
    "kfold = KFold(n_splits=10, shuffle=False)\n",
    "scores_cv = cross_val_score(clf, Xpres, Ypres, cv=kfold)\n",
    "resultNB.append(1 - statistics.mean(scores_cv))\n",
    "\n",
    "print(\"Score sur les données d'entraînement:\", scores_cv, \"\\nPrécision moyenne = %.5f\" % statistics.mean(scores_cv))"
   ]
  },
  {
   "cell_type": "markdown",
   "id": "826b7dea",
   "metadata": {},
   "source": [
    "##### Validation croisée, KFold à n = 5, avec mélange"
   ]
  },
  {
   "cell_type": "code",
   "execution_count": 313,
   "id": "0125f0f4",
   "metadata": {},
   "outputs": [
    {
     "name": "stdout",
     "output_type": "stream",
     "text": [
      "Score sur les données d'entraînement: [0.8877471  0.88443786 0.88565706 0.88364396 0.88616966] \n",
      "Précision moyenne = 0.88553\n"
     ]
    }
   ],
   "source": [
    "# Prédictions en utilisant la validation croisée sans mélange des données d'apprentissage\n",
    "clf = MultinomialNB()\n",
    "\n",
    "kfold = KFold(n_splits=5, shuffle=True)\n",
    "scores_cv = cross_val_score(clf, Xpres, Ypres, cv=kfold)\n",
    "resultNB.append(1 - statistics.mean(scores_cv))\n",
    "\n",
    "print(\"Score sur les données d'entraînement:\", scores_cv, \"\\nPrécision moyenne = %.5f\" % statistics.mean(scores_cv))"
   ]
  },
  {
   "cell_type": "markdown",
   "id": "64bea3b1",
   "metadata": {},
   "source": [
    "##### Validation croisée, KFold à n = 10, avec mélange"
   ]
  },
  {
   "cell_type": "code",
   "execution_count": 314,
   "id": "e6f9abb4",
   "metadata": {},
   "outputs": [
    {
     "name": "stdout",
     "output_type": "stream",
     "text": [
      "Score sur les données d'entraînement: [0.89184953 0.88732149 0.88470916 0.88991465 0.89217906 0.87650235\n",
      " 0.88904372 0.87928932 0.88364396 0.88556001] \n",
      "Précision moyenne = 0.88600\n"
     ]
    }
   ],
   "source": [
    "# Prédictions en utilisant la validation croisée sans mélange des données d'apprentissage\n",
    "clf = MultinomialNB()\n",
    "\n",
    "kfold = KFold(n_splits=10, shuffle=True)\n",
    "scores_cv = cross_val_score(clf, Xpres, Ypres, cv=kfold)\n",
    "resultNB.append(1 - statistics.mean(scores_cv))\n",
    "\n",
    "print(\"Score sur les données d'entraînement:\", scores_cv, \"\\nPrécision moyenne = %.5f\" % statistics.mean(scores_cv))"
   ]
  },
  {
   "cell_type": "markdown",
   "id": "7992a88d",
   "metadata": {},
   "source": [
    "### Utilisation du modèle de Regression Logistique (LogisticRegression)\n",
    "\n",
    "#### Sans validation croisée"
   ]
  },
  {
   "cell_type": "code",
   "execution_count": 315,
   "id": "d404f0cb",
   "metadata": {},
   "outputs": [
    {
     "name": "stdout",
     "output_type": "stream",
     "text": [
      "Score sur les données d'entraînement : 0.9445247592008779\n",
      "Nombre de paramètres vecteur de poids du SVM : 28524 \n",
      "Vecteur de poids du SVM : [[ 2.34084434 -0.52298687  0.13207444 ... -0.37166223 -0.02158416\n",
      "  -0.22511148]]\n"
     ]
    }
   ],
   "source": [
    "# Création du classifieur\n",
    "lin = LogisticRegression(max_iter=1000)\n",
    "lin.fit(Xpres, Ypres)\n",
    "\n",
    "# Liste pour sauvegarder les scores de précision\n",
    "resultLR = []\n",
    "\n",
    "# Score sur les données\n",
    "print(\"Score sur les données d'entraînement :\", lin.score(Xpres, Ypres))\n",
    "print('Nombre de paramètres vecteur de poids du SVM :', len(lin.coef_[0]),'\\nVecteur de poids du SVM :', lin.coef_)"
   ]
  },
  {
   "cell_type": "markdown",
   "id": "0a1b0c6c",
   "metadata": {},
   "source": [
    "##### Validation croisée, KFold à n = 5, sans mélange"
   ]
  },
  {
   "cell_type": "code",
   "execution_count": 316,
   "id": "a797d626",
   "metadata": {},
   "outputs": [
    {
     "name": "stdout",
     "output_type": "stream",
     "text": [
      "Score sur les données d'entraînement: [0.86902377 0.88530872 0.90072281 0.91752308 0.91038147] \n",
      "Précision moyenne = 0.89659\n"
     ]
    }
   ],
   "source": [
    "# Prédictions en utilisant la validation croisée sans mélange des données d'apprentissage\n",
    "lin = LogisticRegression(max_iter=1000)\n",
    "\n",
    "kfold = KFold(n_splits=5, shuffle=False)\n",
    "scores_cv = cross_val_score(lin, Xpres, Ypres, cv=kfold)\n",
    "resultLR.append(1 - statistics.mean(scores_cv))\n",
    "\n",
    "print(\"Score sur les données d'entraînement:\", scores_cv, \"\\nPrécision moyenne = %.5f\" % statistics.mean(scores_cv))"
   ]
  },
  {
   "cell_type": "markdown",
   "id": "3843befd",
   "metadata": {},
   "source": [
    "##### Validation croisée, KFold à n = 10,  sans mélange"
   ]
  },
  {
   "cell_type": "code",
   "execution_count": 317,
   "id": "8fbbcced",
   "metadata": {
    "scrolled": false
   },
   "outputs": [
    {
     "name": "stdout",
     "output_type": "stream",
     "text": [
      "Score sur les données d'entraînement: [0.85127133 0.8908046  0.88801811 0.88573419 0.89862393 0.9026302\n",
      " 0.92179063 0.91517157 0.91203623 0.91081693] \n",
      "Précision moyenne = 0.89769\n"
     ]
    }
   ],
   "source": [
    "# Prédictions en utilisant la validation croisée sans mélange des données d'apprentissage\n",
    "lin = LogisticRegression(max_iter=1000)\n",
    "\n",
    "kfold = KFold(n_splits=10, shuffle=False)\n",
    "scores_cv = cross_val_score(lin, Xpres, Ypres, cv=kfold)\n",
    "resultLR.append(1 - statistics.mean(scores_cv))\n",
    "\n",
    "print(\"Score sur les données d'entraînement:\", scores_cv, \"\\nPrécision moyenne = %.5f\" % statistics.mean(scores_cv))"
   ]
  },
  {
   "cell_type": "markdown",
   "id": "85e31bb5",
   "metadata": {},
   "source": [
    "##### Validation croisée, KFold à n = 5, avec mélange"
   ]
  },
  {
   "cell_type": "code",
   "execution_count": 318,
   "id": "8838aa11",
   "metadata": {},
   "outputs": [
    {
     "name": "stdout",
     "output_type": "stream",
     "text": [
      "Score sur les données d'entraînement: [0.89680397 0.89941653 0.90568667 0.9038495  0.90689775] \n",
      "Précision moyenne = 0.90253\n"
     ]
    }
   ],
   "source": [
    "# Prédictions en utilisant la validation croisée sans mélange des données d'apprentissage\n",
    "lin = LogisticRegression(max_iter=1000)\n",
    "\n",
    "kfold = KFold(n_splits=5, shuffle=True)\n",
    "scores_cv = cross_val_score(lin, Xpres, Ypres, cv=kfold)\n",
    "resultLR.append(1 - statistics.mean(scores_cv))\n",
    "\n",
    "print(\"Score sur les données d'entraînement:\", scores_cv, \"\\nPrécision moyenne = %.5f\" % statistics.mean(scores_cv))"
   ]
  },
  {
   "cell_type": "markdown",
   "id": "1e55e3af",
   "metadata": {},
   "source": [
    "##### Validation croisée, KFold à n = 10, avec mélange"
   ]
  },
  {
   "cell_type": "code",
   "execution_count": 319,
   "id": "0dd45b1f",
   "metadata": {},
   "outputs": [
    {
     "name": "stdout",
     "output_type": "stream",
     "text": [
      "Score sur les données d'entraînement: [0.90996169 0.90160223 0.90038314 0.90193346 0.89932068 0.90802996\n",
      " 0.90593973 0.9014109  0.90454625 0.90419787] \n",
      "Précision moyenne = 0.90373\n"
     ]
    }
   ],
   "source": [
    "# Prédictions en utilisant la validation croisée sans mélange des données d'apprentissage\n",
    "lin = LogisticRegression(max_iter=1000)\n",
    "\n",
    "kfold = KFold(n_splits=10, shuffle=True)\n",
    "scores_cv = cross_val_score(lin, Xpres, Ypres, cv=kfold)\n",
    "resultLR.append(1 - statistics.mean(scores_cv))\n",
    "\n",
    "print(\"Score sur les données d'entraînement:\", scores_cv, \"\\nPrécision moyenne = %.5f\" % statistics.mean(scores_cv))"
   ]
  },
  {
   "cell_type": "markdown",
   "id": "0fb9c853",
   "metadata": {},
   "source": [
    "### Affichage et comparaisons des données\n",
    "\n",
    "Maintenant que nous avons récupérer tous les scores de précision moyenne, nous allons désormais les comparer afin de réaliser de premières observations."
   ]
  },
  {
   "cell_type": "code",
   "execution_count": 320,
   "id": "b56ff214",
   "metadata": {},
   "outputs": [
    {
     "data": {
      "image/png": "[encoded data removed]",
      "text/plain": [
       "<Figure size 576x288 with 1 Axes>"
      ]
     },
     "metadata": {
      "needs_background": "light"
     },
     "output_type": "display_data"
    }
   ],
   "source": [
    "# Regroupement des résultats\n",
    "xlabels = [\"crossval, n=5, no shuffle\", \"crossval, n=5, shuffle\", \n",
    "           \"crossval, n=10, no shuffle\", \"crossval, n=10, shuffle\"]\n",
    "x = np.arange(4)\n",
    "\n",
    "# Création du graphique\n",
    "plt.figure(figsize=(8, 4))\n",
    "ax = plt.subplot(111)\n",
    "\n",
    "# Mise en place des informations\n",
    "ax.bar(x - 0.1, resultSVM, width=0.1, color='g', align='center', label=\"LinearSVC\")\n",
    "ax.bar(x, resultNB, width=0.1, color='r', align='center', label=\"MultinomialNB\")\n",
    "ax.bar(x + 0.1, resultLR, width=0.1, color='b', align='center', label=\"LogisticRegression\")\n",
    "ax.set_xlabel('All models and settings', fontsize=10)\n",
    "ax.set_ylabel('Mean Loss', fontsize=10)\n",
    "plt.title('Mean losses of different models and settings')\n",
    "plt.xticks(x, xlabels, fontsize=8)\n",
    "\n",
    "# Mise en place de la légende\n",
    "plt.legend(loc='center left', bbox_to_anchor=(1, 1))\n",
    "\n",
    "# Affichage et sauvegarde\n",
    "plt.savefig('plot/first_exp_cmp.png', bbox_inches='tight')"
   ]
  },
  {
   "cell_type": "markdown",
   "id": "8d242ceb",
   "metadata": {},
   "source": [
    "On remarque que le modèle le plus précis est la Regression Logistique, puisque son taux d'erreur moyen est constamment inférieur ou égal à 10%. On remarque tout de même qu'en augmentant le nombre d'itérations sur la validation croisée et en mélangeant les données, on obtient une baisse constante de l'erreur moyenne.\n",
    "\n",
    "La base de données utilisée n'a pas été transformée afin de supprimer toutes les majuscules, ponctuation, nombres et autres. On décide d'effectuer de nouvelles séries de tests en les supprimant et en utilisant oui ou non les racines de mots."
   ]
  },
  {
   "cell_type": "code",
   "execution_count": 324,
   "id": "e277b0b7",
   "metadata": {},
   "outputs": [],
   "source": [
    "# On effectue une nouvelle expérience avec la suppression des stopwords et la mise en forme des mots, mais sans les racines\n",
    "Xpres = ut.transform(appX, punc=True, accentMaj=True, nb=True, stopW=True)"
   ]
  },
  {
   "cell_type": "code",
   "execution_count": 325,
   "id": "07669945",
   "metadata": {},
   "outputs": [],
   "source": [
    "# Transformation en vecteurs\n",
    "vectPres = CountVectorizer()\n",
    "Xpres = vectPres.fit_transform(Xpres)\n",
    "Ypres = appY\n",
    "resultSVM, resultNB, resultLR = ut.quickTest(Xpres, Ypres)"
   ]
  },
  {
   "cell_type": "code",
   "execution_count": 326,
   "id": "867b175a",
   "metadata": {},
   "outputs": [
    {
     "data": {
      "image/png": "[encoded data removed]",
      "text/plain": [
       "<Figure size 576x288 with 1 Axes>"
      ]
     },
     "metadata": {
      "needs_background": "light"
     },
     "output_type": "display_data"
    }
   ],
   "source": [
    "# Regroupement des résultats\n",
    "xlabels = [\"crossval, n=5, no shuffle\", \"crossval, n=5, shuffle\", \n",
    "           \"crossval, n=10, no shuffle\", \"crossval, n=10, shuffle\"]\n",
    "x = np.arange(4)\n",
    "\n",
    "# Création du graphique\n",
    "plt.figure(figsize=(8, 4))\n",
    "ax = plt.subplot(111)\n",
    "\n",
    "# Mise en place des informations\n",
    "ax.bar(x - 0.1, resultSVM, width=0.1, color='g', align='center', label=\"LinearSVC\")\n",
    "ax.bar(x, resultNB, width=0.1, color='r', align='center', label=\"MultinomialNB\")\n",
    "ax.bar(x + 0.1, resultLR, width=0.1, color='b', align='center', label=\"LogisticRegression\")\n",
    "ax.set_xlabel('All models and settings with stopwords deleted', fontsize=10)\n",
    "ax.set_ylabel('Mean Loss', fontsize=10)\n",
    "plt.title('Mean losses of different models and settings')\n",
    "plt.xticks(x, xlabels, fontsize=8)\n",
    "\n",
    "# Mise en place de la légende\n",
    "plt.legend(loc='center left', bbox_to_anchor=(1, 1))\n",
    "\n",
    "# Affichage et sauvegarde\n",
    "plt.savefig('plot/first_exp_cmp_fulldelete_nostemming.png', bbox_inches='tight')"
   ]
  },
  {
   "cell_type": "markdown",
   "id": "ac500302",
   "metadata": {},
   "source": [
    "On remarque que les résultats sont en moyenne un peu moins bon que les résultats précedents. On décide alors d'utiliser les racines lors de la transformation du texte."
   ]
  },
  {
   "cell_type": "code",
   "execution_count": 361,
   "id": "0939d432",
   "metadata": {},
   "outputs": [],
   "source": [
    "# On effectue une nouvelle expérience avec la suppression des stopwords et la mise en forme des mots et avec les racines\n",
    "Xpres = ut.transform(appX, punc=True, accentMaj=True, nb=True, stopW=True, stem=True)"
   ]
  },
  {
   "cell_type": "code",
   "execution_count": 362,
   "id": "cd556dd8",
   "metadata": {},
   "outputs": [],
   "source": [
    "# Transformation en vecteurs\n",
    "vectPres = CountVectorizer()\n",
    "Xpres = vectPres.fit_transform(Xpres)\n",
    "Ypres = appY\n",
    "resultSVM, resultNB, resultLR = ut.quickTest(Xpres, Ypres)"
   ]
  },
  {
   "cell_type": "code",
   "execution_count": 363,
   "id": "eba69fec",
   "metadata": {},
   "outputs": [
    {
     "data": {
      "image/png": "[encoded data removed]",
      "text/plain": [
       "<Figure size 576x288 with 1 Axes>"
      ]
     },
     "metadata": {
      "needs_background": "light"
     },
     "output_type": "display_data"
    }
   ],
   "source": [
    "# Regroupement des résultats\n",
    "xlabels = [\"crossval, n=5, no shuffle\", \"crossval, n=5, shuffle\", \n",
    "           \"crossval, n=10, no shuffle\", \"crossval, n=10, shuffle\"]\n",
    "x = np.arange(4)\n",
    "\n",
    "# Création du graphique\n",
    "plt.figure(figsize=(8, 4))\n",
    "ax = plt.subplot(111)\n",
    "\n",
    "# Mise en place des informations\n",
    "ax.bar(x - 0.1, resultSVM, width=0.1, color='g', align='center', label=\"LinearSVC\")\n",
    "ax.bar(x, resultNB, width=0.1, color='r', align='center', label=\"MultinomialNB\")\n",
    "ax.bar(x + 0.1, resultLR, width=0.1, color='b', align='center', label=\"LogisticRegression\")\n",
    "ax.set_xlabel('All models and settings with stopwords deleted and stemming', fontsize=10)\n",
    "ax.set_ylabel('Mean Loss', fontsize=10)\n",
    "plt.title('Mean losses of different models and settings')\n",
    "plt.xticks(x, xlabels, fontsize=8)\n",
    "\n",
    "# Mise en place de la légende\n",
    "plt.legend(loc='center left', bbox_to_anchor=(1, 1))\n",
    "\n",
    "# Affichage et sauvegarde\n",
    "plt.savefig('plot/first_exp_cmp_fulldelete_with_stemming.png', bbox_inches='tight')"
   ]
  },
  {
   "cell_type": "markdown",
   "id": "57daf66f",
   "metadata": {},
   "source": [
    "## Deuxième campagne d'expériences\n",
    "\n",
    "Nous avons évoqué précedemment le fait que chaque Président utilise plus souvent certains mots que d'autres et le fait que nous avons beaucoup plus de données d'apprentissage pour Chirac que pour Mitterrand.\n",
    "\n",
    "On cherche donc à mettre en place un algorithme utilisant les odds-ratio afin de mettre en avant une liaison entre le fait qu'un Président utilise plus souvent un mot que l'autre. On utilise un biais afin de representer le fait que Mitterrand ait prononcé beaucoup moins de chose que Chirac dans la base d'apprentissage."
   ]
  },
  {
   "cell_type": "code",
   "execution_count": 398,
   "id": "81450707",
   "metadata": {},
   "outputs": [],
   "source": [
    "# On parcourt chaque ligne et on étudie la probabilité qu'un Président l'ait prononcé en fonction des mots exclusifs\n",
    "newtext = ut.transform(appX, punc=True, stopW=True, base=newSW)"
   ]
  },
  {
   "cell_type": "code",
   "execution_count": 400,
   "id": "84d2b3fb",
   "metadata": {},
   "outputs": [
    {
     "name": "stdout",
     "output_type": "stream",
     "text": [
      "Score de prévision avec un biais de  2.5 : 0.7854318708306481\n"
     ]
    }
   ],
   "source": [
    "# Liste des predictions\n",
    "pred = []\n",
    "biais = 2.5\n",
    "\n",
    "# On parcourt le texte\n",
    "for i in range(len(newtext)) :\n",
    "    nt = newtext[i].split()\n",
    "    scoreC = 0\n",
    "    scoreM = 0\n",
    "    \n",
    "    for w in nt :\n",
    "        if counterC[w] > counterM[w] * biais :\n",
    "            scoreC += 1\n",
    "        else :\n",
    "            scoreM += 1\n",
    "            \n",
    "    if scoreM > scoreC :\n",
    "        pred.append(-1)\n",
    "    elif scoreM < scoreC :\n",
    "        pred.append(1)\n",
    "    else :\n",
    "        pred.append(0)\n",
    "\n",
    "score = 0\n",
    "for i in range(len(pred)) :\n",
    "    if pred[i] == appY[i] :\n",
    "        score += 1\n",
    "print(\"Score de prévision avec un biais de \", biais, \":\", score / len(pred))"
   ]
  },
  {
   "cell_type": "markdown",
   "id": "6636116b",
   "metadata": {},
   "source": [
    "On pourrait penser que cette méthode de prédiction puisse être intéressante vu que le score de prédiction est assez intéressant lorsqu'on joue un peu avec le biais (pour un biais de 2.5, on a un score de 0.78) et plus on le réduit, plus le score de prédiction augmente. Mais en réalité, on ne fait que mieux classer les données de Chirac et on délaisse les données de Mitterrand.\n",
    "\n",
    "Du fait que l'on dispose de presque six fois plus de données Chirac (87%) que Mitterrand (13%), si on continue à réduire le biais, on finira par approcher une limite de 87% de précision en raison de la répartition des données. De même, si on augmentait le biais à l'infini, on convergerait vers une limite de 13% de précision."
   ]
  },
  {
   "cell_type": "code",
   "execution_count": 401,
   "id": "27307fa1",
   "metadata": {},
   "outputs": [
    {
     "name": "stdout",
     "output_type": "stream",
     "text": [
      "Score de prévision avec un biais de  1e-05 : 0.7939316879452388\n"
     ]
    }
   ],
   "source": [
    "# Liste des predictions\n",
    "pred = []\n",
    "biais = 1e-5\n",
    "\n",
    "# On parcourt le texte\n",
    "for i in range(len(newtext)) :\n",
    "    nt = newtext[i].split()\n",
    "    scoreC = 0\n",
    "    scoreM = 0\n",
    "    \n",
    "    for w in nt :\n",
    "        if counterC[w] > counterM[w] * biais :\n",
    "            scoreC += 1\n",
    "        else :\n",
    "            scoreM += 1\n",
    "            \n",
    "    if scoreM > scoreC :\n",
    "        pred.append(-1)\n",
    "    elif scoreM < scoreC :\n",
    "        pred.append(1)\n",
    "    else :\n",
    "        pred.append(0)\n",
    "\n",
    "score = 0\n",
    "for i in range(len(pred)) :\n",
    "    if pred[i] == appY[i] :\n",
    "        score += 1\n",
    "print(\"Score de prévision avec un biais de \", biais, \":\", score / len(pred))"
   ]
  },
  {
   "cell_type": "code",
   "execution_count": 402,
   "id": "f4638668",
   "metadata": {},
   "outputs": [
    {
     "name": "stdout",
     "output_type": "stream",
     "text": [
      "Score de prévision avec un biais de  1000 : 0.13354118405239232\n"
     ]
    }
   ],
   "source": [
    "# Liste des predictions\n",
    "pred = []\n",
    "biais = 1000\n",
    "\n",
    "# On parcourt le texte\n",
    "for i in range(len(newtext)) :\n",
    "    nt = newtext[i].split()\n",
    "    scoreC = 0\n",
    "    scoreM = 0\n",
    "    \n",
    "    for w in nt :\n",
    "        if counterC[w] > counterM[w] * biais :\n",
    "            scoreC += 1\n",
    "        else :\n",
    "            scoreM += 1\n",
    "            \n",
    "    if scoreM > scoreC :\n",
    "        pred.append(-1)\n",
    "    elif scoreM < scoreC :\n",
    "        pred.append(1)\n",
    "    else :\n",
    "        pred.append(0)\n",
    "\n",
    "score = 0\n",
    "for i in range(len(pred)) :\n",
    "    if pred[i] == appY[i] :\n",
    "        score += 1\n",
    "print(\"Score de prévision avec un biais de \", biais, \":\", score / len(pred))"
   ]
  },
  {
   "cell_type": "markdown",
   "id": "87629a2c",
   "metadata": {},
   "source": [
    "Comme durant la première campagne, on effectue une comparaison des différents modèles de prédiction en utilisant cette fois-ci la nouvelle liste de stopwords créée à partir des mots les plus utilisés par les deux Présidents."
   ]
  },
  {
   "cell_type": "code",
   "execution_count": 408,
   "id": "5c62780c",
   "metadata": {},
   "outputs": [],
   "source": [
    "# On effectue une nouvelle expérience avec la suppression des nouveaux stopwords et la mise en forme des mots, mais sans les racines\n",
    "Xpres = ut.transform(appX, punc=True, stopW=True, base=newSW)"
   ]
  },
  {
   "cell_type": "code",
   "execution_count": 409,
   "id": "895b127f",
   "metadata": {},
   "outputs": [],
   "source": [
    "# Transformation en vecteurs\n",
    "vectPres = CountVectorizer()\n",
    "Xpres = vectPres.fit_transform(Xpres)\n",
    "Ypres = appY\n",
    "resultSVM, resultNB, resultLR = ut.quickTest(Xpres, Ypres)"
   ]
  },
  {
   "cell_type": "code",
   "execution_count": 410,
   "id": "f394e79e",
   "metadata": {},
   "outputs": [
    {
     "data": {
      "image/png": "[encoded data removed]",
      "text/plain": [
       "<Figure size 576x288 with 1 Axes>"
      ]
     },
     "metadata": {
      "needs_background": "light"
     },
     "output_type": "display_data"
    }
   ],
   "source": [
    "# Regroupement des résultats\n",
    "xlabels = [\"crossval, n=5, no shuffle\", \"crossval, n=5, shuffle\", \n",
    "           \"crossval, n=10, no shuffle\", \"crossval, n=10, shuffle\"]\n",
    "x = np.arange(4)\n",
    "\n",
    "# Création du graphique\n",
    "plt.figure(figsize=(8, 4))\n",
    "ax = plt.subplot(111)\n",
    "\n",
    "# Mise en place des informations\n",
    "ax.bar(x - 0.1, resultSVM, width=0.1, color='g', align='center', label=\"LinearSVC\")\n",
    "ax.bar(x, resultNB, width=0.1, color='r', align='center', label=\"MultinomialNB\")\n",
    "ax.bar(x + 0.1, resultLR, width=0.1, color='b', align='center', label=\"LogisticRegression\")\n",
    "ax.set_xlabel('All models and settings with new stopwords deleted', fontsize=10)\n",
    "ax.set_ylabel('Mean Loss', fontsize=10)\n",
    "plt.title('Mean losses of different models and settings')\n",
    "plt.xticks(x, xlabels, fontsize=8)\n",
    "\n",
    "# Mise en place de la légende\n",
    "plt.legend(loc='center left', bbox_to_anchor=(1, 1))\n",
    "\n",
    "# Affichage et sauvegarde\n",
    "plt.savefig('plot/first_exp_cmp_fulldelete_nostemming_newstopwords.png', bbox_inches='tight')"
   ]
  },
  {
   "cell_type": "markdown",
   "id": "1e7f2f0c",
   "metadata": {},
   "source": [
    "## Troisième campagne d'expériences\n",
    "\n",
    "### Recherche des meilleurs paramètres par GridSearch\n",
    "\n",
    "On ne peut pas essayer chaque combinaison de paramètres à la main, il faut donc mettre en place un GridSearch avec tous les paramètres utilisés afin de trouver la meilleure.\n",
    "\n",
    "On crée un dictionnaire allant contenir tous les champs de paramètres et valeurs possibles."
   ]
  },
  {
   "cell_type": "code",
   "execution_count": 415,
   "id": "0a593bbe",
   "metadata": {},
   "outputs": [],
   "source": [
    "# Paramètres spécifiques\n",
    "param_grid_clf = {'alpha': [0.1,0.2,0.25,0.5,0.75,0.8,1]}\n",
    "param_grid_svc = {'max_iter': [1000,1500,2000], \n",
    "                  'C': [0,1,3,5,10,20,40,60,80,100]}\n",
    "param_grid_lin = {'max_iter' :[1000,2000,3000,4000,5000]}\n",
    "\n",
    "stopsWordsUP = cachedStopWords + newSW\n",
    "\n",
    "# Création des Vectorizer\n",
    "# CountVectorizer\n",
    "vectorizerC_pres = CountVectorizer(max_features=10000)\n",
    "vectorizerC_presSW = CountVectorizer(max_features=10000, stop_words=stopsWordsUP)\n",
    "vectorizerC_pres1G = CountVectorizer(max_features=10000, ngram_range=(1,1))\n",
    "vectorizerC_presSW1G = CountVectorizer(max_features=10000, stop_words=stopsWordsUP, ngram_range=(1,1))\n",
    "vectorizerC_pres2G = CountVectorizer(max_features=10000, ngram_range=(2,2))\n",
    "vectorizerC_presSW2G = CountVectorizer(max_features=10000, stop_words=stopsWordsUP, ngram_range=(2,2))\n",
    "vectorizerC_pres12G = CountVectorizer(max_features=10000, ngram_range=(1,2))\n",
    "vectorizerC_presSW12G = CountVectorizer(max_features=10000, stop_words=stopsWordsUP, ngram_range=(2,2))\n",
    "vectorizerC_pres13G = CountVectorizer(max_features=10000, ngram_range=(1,3))\n",
    "vectorizerC_presSW123G = CountVectorizer(max_features=10000, stop_words=stopsWordsUP, ngram_range=(1,3))\n",
    "vectorizerC_pres3G = CountVectorizer(max_features=10000, ngram_range=(3,3))\n",
    "vectorizerC_presSW3G = CountVectorizer(max_features=10000, stop_words=stopsWordsUP, ngram_range=(3,3))\n",
    "\n",
    "vectorizerTFIDF_pres = TfidfVectorizer(max_features=10000)\n",
    "vectorizerTFIDF_presSW = TfidfVectorizer(max_features=10000, stop_words=stopsWordsUP)\n",
    "vectorizerTFIDF_pres1G = TfidfVectorizer(max_features=10000, ngram_range=(1,1))\n",
    "vectorizerTFIDF_presSW1G = TfidfVectorizer(max_features=10000, stop_words=stopsWordsUP, ngram_range=(1,1))\n",
    "vectorizerTFIDF_pres2G = TfidfVectorizer(max_features=10000, ngram_range=(2,2))\n",
    "vectorizerTFIDF_presSW2G = TfidfVectorizer(max_features=10000, stop_words=stopsWordsUP, ngram_range=(2,2))\n",
    "vectorizerTFIDF_pres12G = TfidfVectorizer(max_features=10000, ngram_range=(1,2))\n",
    "vectorizerTFIDF_presSW12G = TfidfVectorizer(max_features=10000, stop_words=stopsWordsUP, ngram_range=(1,2))\n",
    "vectorizerTFIDF_pres13G = TfidfVectorizer(max_features=10000, ngram_range=(1,3))\n",
    "vectorizerTFIDF_presSW123G = TfidfVectorizer(max_features=10000, stop_words=stopsWordsUP, ngram_range=(1,3))\n",
    "vectorizerTFIDF_pres3G = TfidfVectorizer(max_features=10000, ngram_range=(3,3))\n",
    "vectorizerTFIDF_presSW3G = TfidfVectorizer(max_features=10000, stop_words=stopsWordsUP, ngram_range=(3,3))\n",
    "\n",
    "\n",
    "vectorizers = {'vectorizerC_pres' : vectorizerC_pres, 'vectorizerC_presSW' : vectorizerC_presSW,\n",
    "               'vectorizerC_pres1G' : vectorizerC_pres1G, 'vectorizerC_presSW1G' : vectorizerC_presSW1G,\n",
    "               'vectorizerC_pres2G' : vectorizerC_pres2G, 'vectorizerC_presSW2G' : vectorizerC_presSW2G,\n",
    "               'vectorizerC_pres12G' : vectorizerC_pres12G, 'vectorizerC_presSW12G' : vectorizerC_presSW12G,\n",
    "               'vectorizerC_pres13G' : vectorizerC_pres13G, 'vectorizerC_presSW123G' : vectorizerC_presSW123G,\n",
    "               'vectorizerC_pres3G' : vectorizerC_pres3G, 'vectorizerC_presSW3G' : vectorizerC_presSW3G,\n",
    "               \n",
    "               'vectorizerTFIDF_pres' : vectorizerTFIDF_pres, 'vectorizerTFIDF_presSW' : vectorizerTFIDF_presSW,\n",
    "               'vectorizerTFIDF_pres1G' : vectorizerTFIDF_pres1G, 'vectorizerTFIDF_presSW1G' : vectorizerTFIDF_presSW1G,\n",
    "               'vectorizerTFIDF_pres2G' : vectorizerTFIDF_pres2G, 'vectorizerTFIDF_presSW2G' : vectorizerTFIDF_presSW2G,\n",
    "               'vectorizerTFIDF_pres12G' : vectorizerTFIDF_pres12G, 'vectorizerTFIDF_presSW12G' : vectorizerTFIDF_presSW12G,\n",
    "               'vectorizerTFIDF_pres13G' : vectorizerTFIDF_pres13G, 'vectorizerTFIDF_presSW123G' : vectorizerTFIDF_presSW123G,\n",
    "               'vectorizerTFIDF_pres3G' : vectorizerTFIDF_pres3G, 'vectorizerTFIDF_presSW3G' : vectorizerTFIDF_presSW3G}\n",
    "\n",
    "# Ensemble des modèles\n",
    "all_models = {clf:param_grid_clf, svc:param_grid_svc, lin:param_grid_lin}"
   ]
  },
  {
   "cell_type": "markdown",
   "id": "c6ea9107",
   "metadata": {},
   "source": [
    "Les combinaisons de paramètres et les vectorizers maintenant créés, on peut s'attaquer à la réalisation du GridSearch."
   ]
  },
  {
   "cell_type": "code",
   "execution_count": null,
   "id": "9be676ec",
   "metadata": {},
   "outputs": [
    {
     "name": "stdout",
     "output_type": "stream",
     "text": [
      "Work on vectorizer =>  vectorizerC_pres\n",
      "\tWith =>  MultinomialNB()\n",
      "\tWith =>  LinearSVC()\n",
      "\tWith =>  LogisticRegression(max_iter=1000)\n",
      "Work on vectorizer =>  vectorizerC_presSW\n",
      "\tWith =>  MultinomialNB()\n",
      "\tWith =>  LinearSVC()\n"
     ]
    }
   ],
   "source": [
    "# Données utilisées\n",
    "Xpres = ut.transform(appX, punc=True, accentMaj=True, nb=True, stopW=True, base=newSW)\n",
    "Ypres = appY\n",
    "\n",
    "# Dictionnaire de précision\n",
    "accuracys = {}\n",
    "\n",
    "# On crée des listes vides\n",
    "for v in vectorizers:\n",
    "    accuracys[v] = []\n",
    "    \n",
    "# GridSearch\n",
    "for vname in vectorizers:\n",
    "    v = vectorizers[vname]\n",
    "    \n",
    "    print(\"Work on vectorizer => \",vname)\n",
    "    vectPres = v.fit_transform(Xpres)\n",
    "    for m in all_models :\n",
    "        print(\"\\tWith => \",m)\n",
    "        grid_cv = GridSearchCV(m, all_models[m], n_jobs=-1, cv=5, scoring='f1')\n",
    "        grid_cv.fit(vectPres, Ypres)\n",
    "        accuracys[vname].append((grid_cv.best_score_, grid_cv.best_params_))"
   ]
  },
  {
   "cell_type": "code",
   "execution_count": null,
   "id": "191721e4",
   "metadata": {},
   "outputs": [],
   "source": []
  }
 ],
 "metadata": {
  "kernelspec": {
   "display_name": "Python 3 (ipykernel)",
   "language": "python",
   "name": "python3"
  },
  "language_info": {
   "codemirror_mode": {
    "name": "ipython",
    "version": 3
   },
   "file_extension": ".py",
   "mimetype": "text/x-python",
   "name": "python",
   "nbconvert_exporter": "python",
   "pygments_lexer": "ipython3",
   "version": "3.9.7"
  }
 },
 "nbformat": 4,
 "nbformat_minor": 5
}
