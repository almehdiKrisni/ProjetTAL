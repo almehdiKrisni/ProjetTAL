{
 "cells": [
  {
   "cell_type": "markdown",
   "id": "8bcbb3ab",
   "metadata": {},
   "source": [
    "# Rapport TAL\n",
    "## Partie Présidents\n",
    "Membres du binôme :\n",
    "- KRISNI Almehdi (3800519)\n",
    "- ARICHANDRA Santhos (3802651)\n",
    "\n",
    "### Introduction\n",
    "Dans cette partie, nous allons nous intéresser à la prédiction de l'interlocuteur lors d'un débat présidentiel entre Chirac et Mitterrand. Entre d'autres termes, qui a dit quoi ?\n",
    "\n",
    "Nous disposons donc d'une base de données d'apprentissage de 57000 lignes représentant un ensemble de phrases, chacune de ces dernières étiquetées par un C (Chirac) ou un M (Mitterrand), désignant la personne l'ayant prononcé. On peut alors labéliser notre ensemble d'apprentissage en 2 classes distinctes. \n",
    "\n",
    "Notre objectif est de mettre en place des algorithmes allant nous permettre de labelliser de nouveaux débats entre Chirac et Mitterrand.\n",
    "\n",
    "### Mise en place des import et des librairies utilisées"
   ]
  },
  {
   "cell_type": "code",
   "execution_count": 168,
   "id": "15557cf7",
   "metadata": {},
   "outputs": [
    {
     "name": "stdout",
     "output_type": "stream",
     "text": [
      "['au', 'aux', 'avec', 'ce', 'ces', 'dans', 'de', 'des', 'du', 'elle', 'en', 'et', 'eux', 'il', 'ils', 'je', 'la', 'le', 'les', 'leur', 'lui', 'ma', 'mais', 'me', 'même', 'mes', 'moi', 'mon', 'ne', 'nos', 'notre', 'nous', 'on', 'ou', 'par', 'pas', 'pour', 'qu', 'que', 'qui', 'sa', 'se', 'ses', 'son', 'sur', 'ta', 'te', 'tes', 'toi', 'ton', 'tu', 'un', 'une', 'vos', 'votre', 'vous', 'c', 'd', 'j', 'l', 'à', 'm', 'n', 's', 't', 'y', 'été', 'étée', 'étées', 'étés', 'étant', 'étante', 'étants', 'étantes', 'suis', 'es', 'est', 'sommes', 'êtes', 'sont', 'serai', 'seras', 'sera', 'serons', 'serez', 'seront', 'serais', 'serait', 'serions', 'seriez', 'seraient', 'étais', 'était', 'étions', 'étiez', 'étaient', 'fus', 'fut', 'fûmes', 'fûtes', 'furent', 'sois', 'soit', 'soyons', 'soyez', 'soient', 'fusse', 'fusses', 'fût', 'fussions', 'fussiez', 'fussent', 'ayant', 'ayante', 'ayantes', 'ayants', 'eu', 'eue', 'eues', 'eus', 'ai', 'as', 'avons', 'avez', 'ont', 'aurai', 'auras', 'aura', 'aurons', 'aurez', 'auront', 'aurais', 'aurait', 'aurions', 'auriez', 'auraient', 'avais', 'avait', 'avions', 'aviez', 'avaient', 'eut', 'eûmes', 'eûtes', 'eurent', 'aie', 'aies', 'ait', 'ayons', 'ayez', 'aient', 'eusse', 'eusses', 'eût', 'eussions', 'eussiez', 'eussent', 'dit', 'lès', 'hou', 'ceux-là', 'rend', 'mêmes', 'autrement', 'comme', 'ta', 'relativement', 'encore', 'vont', 'quatre', 'es', 'suivre', 'deuxième', 'mais', 'exactement', \"qu'\", 'celle-là', 'specifiques', 'plus', 'pense', 'auquel', 'j’', 'pourquoi', 'quelques', 'etc', 'or', 'c’', 'déja', 'façon', 'les', 'relative', 'cette', 'là', 'n’', 'votres', 'se', 'revoici', 'avoir', 'vos', 'eux', 'etais', 'doit', 'nos', 'son', 'vôtres', 'ouverts', 'desormais', 'telles', 'selon', 'cependant', 'moi-meme', 'nôtre', 'treize', 'dejà', 'elle', 'vu', 'houp', 'différentes', 'jusque', 'étant', 'vé', 'maintenant', 'ouverte', 'doivent', 'bat', 'ne', 'au', 'font', 'qu’', 'prealable', 'ma', 'toi-meme', 'étaient', 'mien', 'suit', 'ouias', 'elle-même', 'attendu', 'elles-memes', 'sienne', 'pas', 'quarante', 'quatrième', 'plutot', 'vous-mêmes', 'enfin', 'vers', 'a', 'celles', 'tu', 'et', 'alors', 'puisque', 'da', 'directe', 'est', 'suffit', 'ait', 'différente', 'peuvent', 'abord', 'aurait', \"s'\", 'devant', 'celles-la', 'feront', 'partant', 'ils', 'sixième', 'la', 'i', 'ses', 'six', 'aie', 'assez', 'pourrais', 'parlent', 'ces', 's’', 'un', 'celui-la', 'diverse', 'seuls', 'nous', 'allaient', 'mienne', 'quatre-vingt', 'facon', 'reste', 'pouvait', 'na', 'ou', 'compris', 'néanmoins', 'té', 'derrière', 'près', 'de', \"d'\", 'sa', 'ça', 'cinquantième', 'lors', 'nous-mêmes', 'entre', 'mes', 'delà', 'quinze', 'notamment', 'hue', 'donc', 'quelle', 'quelles', 'plutôt', 'longtemps', 'tres', 'parler', 'hui', 'hé', 'hormis', 'envers', \"m'\", 'â', 'ni', 'premier', 'seraient', 'basee', 'quand', 'eu', 'moi-même', 'celles-là', 'elle-meme', 'dans', 'deux', 'ès', 'juste', 'seule', 'maint', 'car', 'leurs', 'cinquième', 'premièrement', 'qui', 'ceci', 'celle', 'auxquelles', 'le', 'jusqu', 'nombreuses', 'egalement', 'malgré', 'fait', 'certes', 'dedans', 'importe', 'soi-même', 'si', 'tels', 'certaine', 'antérieure', 'ho', 'dix-sept', 'ah', 'cet', 'des', 'different', 'que', 'quoique', 'seules', 'debout', 'on', 'ouste', 'chacun', 'va', 'peut', 'suffisant', 'dire', 'leur', 'outre', 'troisièmement', 'chacune', 'ton', 'une', 'quatorze', 'auraient', 'suivants', 'même', 'tend', 'lequel', 'ô', 'hors', 'tiennes', 'mille', 'nul', 'puis', 'dessous', 'il', 'ainsi', 'derriere', 'suivante', 'siennes', 'cela', 'te', 'toute', 'fais', 'trois', 'dehors', 'sent', 'comment', 'celui-là', 'ceux', 'malgre', 'restent', 'première', 'quant-à-soi', 'deuxièmement', 'lui-meme', 'tant', 'o', 'ont', 'deja', 'peu', 'tel', 'vas', 'sauf', 'celui-ci', 'cinquantaine', 'sien', 'revoila', 'sur', 'avait', 'quelconque', 'sinon', 'différent', 'faisant', 'cinq', 'neanmoins', 'celles-ci', 'restant', 'dix-huit', 'vous', 'gens', 'pres', 'sait', 'quiconque', 'très', 'voila', 'celle-la', 'désormais', 'differents', 'déjà', 'être', 'dixième', 'depuis', 'unes', 'directement', 'possible', 'suivantes', 'seulement', 'siens', 'tente', 'y', 'autres', 'à', 'douzième', 'étais', 'tous', 'cinquante', 'aussi', 'pu', 'vingt', 'diverses', 'etre', \"quelqu'un\", 'ha', 'serait', 'celui', 'auront', 'memes', 'onze', 'vôtre', \"c'\", 'sans', 'meme', 'avons', 'hep', 'sont', 'parfois', 'd’', 'specifique', 'desquelles', 'dès', 'suis', \"t'\", 'differentes', 'surtout', 'antérieures', 'différents', 'etait', 'huitième', 'pour', 'tiens', 'allons', 'avaient', 'precisement', 'apres', 'préalable', 'neuvième', 'notre', 'soixante', 'en', \"j'\", 'suffisante', 'faisaient', 'differente', 'sous', 'toi', 'soit', 'parle', 'plusieurs', 'devers', 'lui', 'auxquels', 'laquelle', 'dits', 'spécifique', 'aura', 'quel', 'certain', 'celle-ci', 'eh', 'seize', 'anterieur', 'retour', 'rendre', 'quoi', 'uns', 'ce', 'soi-meme', \"l'\", 'dix', 'touchant', 'semblaient', 'seront', 'stop', 'eux-mêmes', 'merci', 'troisième', 'excepté', 'cent', 'parce', 'aupres', 'quatrièmement', 'dix-neuf', 'peux', 'avant', 'moindres', 'seul', 'chez', 'lesquels', 'huit', 'ayant', 'autrui', 'certains', 'était', 'sera', 'septième', 'moi', 'semblable', 'etaient', 'certaines', 'dite', 'semble', 'semblent', 'proche', 'pourrait', 'ouvert', 'soi', 'après', 'par', 'onzième', 'desquels', 'douze', 'environ', 'vais', 'souvent', 'nouveau', 'du', 'toi-même', 'procedant', 'devra', 'chaque', 'miennes', 'spécifiques', 'tenant', 'possibles', 'ci', 'telle', 'voici', 'tout', 'aux', 'tien', 'ai', 'tellement', 'laisser', 'lesquelles', 'etant', 'votre', 'l’', 'elles-mêmes', \"n'\", 'tienne', 'lui-même', 'précisement', 'sept', 'm’', 'autre', 'nombreux', 'combien', 'dessus', 'quelque', 'as', 'bas', 'antérieur', 'via', 'où', 'anterieures', 'dont', 'trente', 'revoilà', 'nôtres', 't’', 'me', 'hem', 'duquel', 'elles', 'ceux-ci', 'avec', 'tenir', 'mon', 'quels', 'tes', 'hi', 'toujours', 'anterieure', 'durant', 'divers', 'moins', 'quant', 'pendant', 'effet', 'miens', 'toutes', 'afin', 'parmi', 'lorsque', 'suivant', 'concernant', 'voilà', 'je', 'permet', 'avais', 'personne', 'également']\n",
      "The autoreload extension is already loaded. To reload it, use:\n",
      "  %reload_ext autoreload\n"
     ]
    }
   ],
   "source": [
    "import numpy as np\n",
    "import matplotlib.pyplot as plt\n",
    "\n",
    "import codecs\n",
    "import re\n",
    "import os.path\n",
    "\n",
    "import copy\n",
    "\n",
    "from collections import Counter\n",
    "\n",
    "import re\n",
    "import unicodedata\n",
    "import string\n",
    "from nltk.corpus import stopwords\n",
    "from spacy.lang.fr.stop_words import STOP_WORDS as fr_stop\n",
    "\n",
    "cachedStopWords = stopwords.words(\"french\") + (list(fr_stop))\n",
    "print(cachedStopWords)\n",
    "\n",
    "from collections import Counter\n",
    "\n",
    "from sklearn.feature_extraction import text \n",
    "\n",
    "from sklearn.feature_extraction.text import CountVectorizer, TfidfVectorizer\n",
    "\n",
    "import numpy as np\n",
    "import sklearn.naive_bayes as nb\n",
    "from sklearn import svm\n",
    "from sklearn import linear_model\n",
    "from sklearn.model_selection import GridSearchCV\n",
    "\n",
    "# Importation des librairies standards:\n",
    "import numpy as np\n",
    "import pandas as pd\n",
    "import matplotlib.pyplot as plt\n",
    "%matplotlib inline  \n",
    "\n",
    "# Importation de votre librairie iads\n",
    "import sys\n",
    "sys.path.append('../')\n",
    "\n",
    "# Iportation de utils\n",
    "from iads import utils as ut\n",
    "\n",
    "# commande TRES utile pour recharger automatiquement le code que vous modifiez dans les modules\n",
    "%load_ext autoreload\n",
    "%autoreload 2"
   ]
  },
  {
   "cell_type": "markdown",
   "id": "04188d76",
   "metadata": {},
   "source": [
    "### Première analyse des données\n",
    "\n",
    "On extrait dans un premier les informations à la base de données d'apprentissage. On utilise la fonction d'extraction \"load_pres\" située dans le fichier utils.py.\n",
    "\n",
    "On considère 2 classes, la classe -1 représentant Mitterrand et la classe +1 représentant Chirac."
   ]
  },
  {
   "cell_type": "code",
   "execution_count": 169,
   "id": "79aa273d",
   "metadata": {},
   "outputs": [],
   "source": [
    "appdata = ut.load_pres(\"AFDpresidentutf8/corpus.tache1.learn.utf8\")\n",
    "appX = appdata[0]\n",
    "appY = appdata[1]"
   ]
  },
  {
   "cell_type": "markdown",
   "id": "8c550fb2",
   "metadata": {},
   "source": [
    "On s'intéresse à la répartition des labels dans les données. Une personne parle-t-elle beaucoup plus que l'autre ?"
   ]
  },
  {
   "cell_type": "code",
   "execution_count": 170,
   "id": "cdc5dce3",
   "metadata": {},
   "outputs": [
    {
     "name": "stdout",
     "output_type": "stream",
     "text": [
      "Le nombre de lignes prononcées par Chirac :\t 49890\n",
      "Le nombre de lignes prononcées par Mitterrand :\t 7523 \n",
      "\n",
      "Proportion de Chirac dans la base d'apprentissage :\t 86.89669587027329 %\n",
      "Proportion de Mitterrand dans la base d'apprentissage :\t 13.103304129726718 %\n"
     ]
    }
   ],
   "source": [
    "print(\"Le nombre de lignes prononcées par Chirac :\\t\", str(appY.count(1)))\n",
    "print(\"Le nombre de lignes prononcées par Mitterrand :\\t\", str(appY.count(-1)), \"\\n\")\n",
    "print(\"Proportion de Chirac dans la base d'apprentissage :\\t\", str((appY.count(1) / len(appY)) * 100), \"%\")\n",
    "print(\"Proportion de Mitterrand dans la base d'apprentissage :\\t\", str((appY.count(-1) / len(appY)) * 100), \"%\")"
   ]
  },
  {
   "cell_type": "markdown",
   "id": "685bd03a",
   "metadata": {},
   "source": [
    "On remarque donc qu'il y a presque 87% des lignes dans la base de données d'apprentissage ayant été prononcées par Mitterrand. Il se peut que cette différence puisse jouer un rôle important lors de l'apprentissage.\n",
    "\n",
    "### Nettoyage des données\n",
    "\n",
    "On effectue alors un premier nettoyage des données en supprimant les chiffres, la ponctuation, les accents, les majuscules et les stopwords de la langue française."
   ]
  },
  {
   "cell_type": "code",
   "execution_count": 177,
   "id": "40a095d2",
   "metadata": {},
   "outputs": [
    {
     "name": "stdout",
     "output_type": "stream",
     "text": [
      "57400 / 57413\r"
     ]
    }
   ],
   "source": [
    "appX = appdata[0]\n",
    "appY = appdata[1]\n",
    "appX = ut.transform(appX, punc=True, accentMaj=True, nb=True, stopW=True, base=cachedStopWords)"
   ]
  },
  {
   "cell_type": "markdown",
   "id": "e16327b5",
   "metadata": {},
   "source": [
    "On crée un Counter allant mettre en avant les mots les plus souvent utilisés par chacun des Présidents, après nettoyage des données en fonction des paramètres selectionnés."
   ]
  },
  {
   "cell_type": "code",
   "execution_count": 178,
   "id": "4571b2cc",
   "metadata": {},
   "outputs": [
    {
     "name": "stdout",
     "output_type": "stream",
     "text": [
      "Les 10 mots les plus utilisés par Mitterrand sont :\n",
      " ['bien', 'pays', 'france', 'faut', 'europe', 'ete', 'nom', 'date', 'faire', 'temps'] \n",
      "\n",
      "Les 10 mots les plus utilisés par Chirac sont :\n",
      " ['france', 'pays', 'nom', 'aujourd', 'monde', 'francais', 'bien', 'europe', 'faire', 'etat']\n"
     ]
    }
   ],
   "source": [
    "# Création du dictionnaire et counter de mots de Mitterrand\n",
    "motsM = [appX[i] for i in range(len(appY)) if appY[i] == -1]\n",
    "motsM = (' '.join(motsM)).split()\n",
    "counterM = Counter(motsM)\n",
    "\n",
    "print(\"Les 10 mots les plus utilisés par Mitterrand sont :\\n\", [i[0] for i in counterM.most_common(10)], \"\\n\")\n",
    "\n",
    "# Creation du dictionnaire et counter de mots de Chirac\n",
    "motsC = [appX[i] for i in range(len(appY)) if appY[i] == 1]\n",
    "motsC = (' '.join(motsC)).split()\n",
    "counterC = Counter(motsC)\n",
    "\n",
    "print(\"Les 10 mots les plus utilisés par Chirac sont :\\n\", [i[0] for i in counterC.most_common(10)])"
   ]
  },
  {
   "cell_type": "markdown",
   "id": "e56d0fd0",
   "metadata": {},
   "source": [
    "On s'intéresse à mettre en place deux dictionnaires exclusifs pour Chirac et Mitterrand. Il s'agit de dictionnaires comportant les mots qu'ils utilisent de manière exclusive."
   ]
  },
  {
   "cell_type": "code",
   "execution_count": 186,
   "id": "1251354f",
   "metadata": {},
   "outputs": [
    {
     "name": "stdout",
     "output_type": "stream",
     "text": [
      "Le ratio de mots exclusifs utilisés par Mitterrand est de :\t 0.2238770870894411\n",
      "Les 10 mots exclusifs les plus utilisés par Mitterrand sont :\n",
      " ['convenait', 'eureka', 'nievre', 'morvan', 'estampes', 'cee', 'nevers', 'laitiers', 'electrification', 'montlucon'] \n",
      "\n",
      "[('ranimee', 1), ('reliefs', 1), ('allegories', 1), ('rechigner', 1), ('regroupaient', 1), ('geostrategie', 1), ('mappemonde', 1), ('agglomerer', 1), ('adviendra', 1), ('malhonnete', 1), ('receptivite', 1), ('montebello', 1), ('etriques', 1), ('avantageuse', 1), ('depeupler', 1), ('depeuple', 1), ('tsar', 1), ('miradors', 1), ('comique', 1), ('reactivee', 1), ('deplairait', 1), ('desagrement', 1), ('apercevra', 1), ('embellit', 1), ('retenons', 1), ('inegaux', 1), ('paraisse', 1), ('privielegiees', 1), ('souffrirons', 1), ('vivifiees', 1), ('respecterai', 1), ('cederai', 1), ('isolant', 1), ('rejointes', 1), ('dan', 1), ('ajouteriez', 1), ('restreignant', 1), ('repeterons', 1), ('connaitrons', 1), ('anterieurement', 1), ('depassaient', 1), ('questia', 1), ('repondraient', 1), ('andorran', 1), ('raccordes', 1), ('constatais', 1), ('frotte', 1), ('quebecoise', 1), ('empare', 1), ('attractions', 1), ('armorial', 1), ('risquerai', 1), ('bornait', 1), ('puiserent', 1), ('insurgents', 1), ('commenta', 1), ('burke', 1), ('repondit', 1), ('fichte', 1), ('mobilisa', 1), ('kant', 1), ('koenigsberg', 1), ('plantant', 1), ('tubingen', 1), ('holderlin', 1), ('schelling', 1), ('reagirent', 1), ('temoignerent', 1), ('genevoise', 1), ('batave', 1), ('brabanconne', 1), ('irlandais', 1), ('miranda', 1), ('forgerent', 1), ('mirent', 1), ('exterminer', 1), ('tyrans', 1), ('pronostic', 1), ('dominatrices', 1), ('eprouverent', 1), ('servit', 1), ('desarmements', 1), ('surabondants', 1), ('cooptation', 1), ('dirigistes', 1), ('rudement', 1), ('wuillaume', 1), ('cjd', 1), ('traiterai', 1), ('suburbaines', 1), ('inhumanite', 1), ('decor', 1), ('entassement', 1), ('citat', 1), ('insensee', 1), ('amertumes', 1), ('trentenaire', 1), ('adheriez', 1), ('pourvoit', 1), ('etiolant', 1)]\n",
      "Le ratio de mots exclusifs utilisés par Chirac est de :\t\t 0.5841313844086021\n",
      "Les 10 mots exclusifs les plus utilisés par Chirac sont :\n",
      " ['mondialisation', 'euro', 'attentes', 'constituent', 'guyane', 'mercosur', 'sida', 'respectueux', 'internet', 'verre']\n"
     ]
    }
   ],
   "source": [
    "# Dictionnaire exclusif de Mitterrand\n",
    "excluM = copy.deepcopy(counterM)\n",
    "for w in counterC.keys() :\n",
    "    if w in excluM.keys() :\n",
    "        del excluM[w]\n",
    "        \n",
    "print(\"Le ratio de mots exclusifs utilisés par Mitterrand est de :\\t\", len(excluM.keys()) / len(counterM.keys()))\n",
    "print(\"Les 10 mots exclusifs les plus utilisés par Mitterrand sont :\\n\", [i[0] for i in excluM.most_common(10)], \"\\n\")\n",
    "\n",
    "# Dictionnaire exclusif de Chirac\n",
    "excluC = copy.deepcopy(counterC)\n",
    "for w in counterM.keys() :\n",
    "    if w in excluC.keys() :\n",
    "        del excluC[w]\n",
    "        \n",
    "print(\"Le ratio de mots exclusifs utilisés par Chirac est de :\\t\\t\", len(excluC.keys()) / len(counterC.keys()))\n",
    "print(\"Les 10 mots exclusifs les plus utilisés par Chirac sont :\\n\", [i[0] for i in excluC.most_common(10)])"
   ]
  },
  {
   "cell_type": "code",
   "execution_count": null,
   "id": "990a87e7",
   "metadata": {},
   "outputs": [],
   "source": []
  },
  {
   "cell_type": "code",
   "execution_count": null,
   "id": "7073b8f7",
   "metadata": {},
   "outputs": [],
   "source": []
  }
 ],
 "metadata": {
  "kernelspec": {
   "display_name": "Python 3 (ipykernel)",
   "language": "python",
   "name": "python3"
  },
  "language_info": {
   "codemirror_mode": {
    "name": "ipython",
    "version": 3
   },
   "file_extension": ".py",
   "mimetype": "text/x-python",
   "name": "python",
   "nbconvert_exporter": "python",
   "pygments_lexer": "ipython3",
   "version": "3.9.7"
  }
 },
 "nbformat": 4,
 "nbformat_minor": 5
}
